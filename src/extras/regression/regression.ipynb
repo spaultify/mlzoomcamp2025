{
 "cells": [
  {
   "cell_type": "code",
   "execution_count": 2,
   "id": "60a0b0b1",
   "metadata": {},
   "outputs": [],
   "source": [
    "import httpx\n",
    "import mlcroissant as mlc\n",
    "import pandas as pd\n",
    "import numpy as np\n",
    "from matplotlib import pyplot as plt\n",
    "import matplotlib.ticker as mticker\n",
    "import seaborn as sns\n",
    "import math\n",
    "\n",
    "from pathlib import Path"
   ]
  },
  {
   "cell_type": "code",
   "execution_count": 3,
   "id": "be24b931",
   "metadata": {},
   "outputs": [],
   "source": [
    "# CONSTANTS\n",
    "PARENT_FOLDER = Path.cwd()\n",
    "DATA_FOLDER = PARENT_FOLDER / \"data\"\n",
    "DATASET_URL = (\n",
    "    \"https://www.kaggle.com/datasets/CooperUnion/cardataset/croissant/download\"\n",
    ")"
   ]
  },
  {
   "cell_type": "code",
   "execution_count": 4,
   "id": "8f343fa1",
   "metadata": {},
   "outputs": [
    {
     "name": "stderr",
     "output_type": "stream",
     "text": [
      "WARNING:absl:WARNING: The JSON-LD `@context` is not standard. Refer to the official @context (e.g., from the example datasets in https://github.com/mlcommons/croissant/tree/main/datasets/1.0). The different keys are: {'samplingRate', 'examples', 'rai', 'isLiveDataset'}\n",
      "WARNING:absl:Found the following 1 warning(s) during the validation:\n",
      "  -  [Metadata(Car Features and MSRP)] Property \"http://mlcommons.org/croissant/citeAs\" is recommended, but does not exist.\n"
     ]
    }
   ],
   "source": [
    "def download_data(url: str):\n",
    "    dataset = mlc.Dataset(url)\n",
    "\n",
    "    return dataset\n",
    "\n",
    "car_dataset = download_data(DATASET_URL)\n",
    "car_record_sets = car_dataset.metadata.record_sets\n",
    "dataset_uuid = car_record_sets[0].uuid\n",
    "car_records = car_dataset.records(dataset_uuid)\n",
    "\n"
   ]
  },
  {
   "cell_type": "code",
   "execution_count": 93,
   "id": "5cbda8d3",
   "metadata": {},
   "outputs": [],
   "source": [
    "df_car_raw = pd.DataFrame(car_records)\n",
    "len(df_car_raw)\n",
    "\n",
    "df_car = df_car_raw.copy(deep=True)"
   ]
  },
  {
   "cell_type": "code",
   "execution_count": 94,
   "id": "76443dc1",
   "metadata": {},
   "outputs": [
    {
     "data": {
      "text/plain": [
       "Index(['make', 'model', 'year', 'engine_fuel_type', 'engine_hp',\n",
       "       'engine_cylinders', 'transmission_type', 'driven_wheels',\n",
       "       'number_of_doors', 'market_category', 'vehicle_size', 'vehicle_style',\n",
       "       'highway_mpg', 'city_mpg', 'popularity', 'msrp'],\n",
       "      dtype='object')"
      ]
     },
     "execution_count": 94,
     "metadata": {},
     "output_type": "execute_result"
    }
   ],
   "source": [
    "# Clean column names\n",
    "df_car.columns = df_car.columns.str.lower().str.replace(\"+\", \"_\").str.replace(\"data.csv/\", \"\")\n",
    "df_car.columns\n"
   ]
  },
  {
   "cell_type": "code",
   "execution_count": 95,
   "id": "6b164f62",
   "metadata": {},
   "outputs": [
    {
     "data": {
      "image/png": "[encoded data removed]",
      "text/plain": [
       "<Figure size 1200x600 with 1 Axes>"
      ]
     },
     "metadata": {},
     "output_type": "display_data"
    }
   ],
   "source": [
    "# plot the distribution of our target variable, the msrp\n",
    "\n",
    "plt.rcParams[\"figure.figsize\"] = (12, 6)\n",
    "\n",
    "ax = sns.histplot(data=df_car, x=\"msrp\", bins=40)\n",
    "ax.xaxis.set_major_formatter(mticker.FuncFormatter(lambda x, _: f'${int(x):,}'))"
   ]
  },
  {
   "cell_type": "code",
   "execution_count": 96,
   "id": "9b050712",
   "metadata": {},
   "outputs": [
    {
     "data": {
      "text/html": [
       "<div>\n",
       "<style scoped>\n",
       "    .dataframe tbody tr th:only-of-type {\n",
       "        vertical-align: middle;\n",
       "    }\n",
       "\n",
       "    .dataframe tbody tr th {\n",
       "        vertical-align: top;\n",
       "    }\n",
       "\n",
       "    .dataframe thead th {\n",
       "        text-align: right;\n",
       "    }\n",
       "</style>\n",
       "<table border=\"1\" class=\"dataframe\">\n",
       "  <thead>\n",
       "    <tr style=\"text-align: right;\">\n",
       "      <th></th>\n",
       "      <th>msrp</th>\n",
       "      <th>msrp_normalized</th>\n",
       "    </tr>\n",
       "  </thead>\n",
       "  <tbody>\n",
       "    <tr>\n",
       "      <th>0</th>\n",
       "      <td>46135</td>\n",
       "      <td>10.739349</td>\n",
       "    </tr>\n",
       "    <tr>\n",
       "      <th>1</th>\n",
       "      <td>40650</td>\n",
       "      <td>10.612779</td>\n",
       "    </tr>\n",
       "    <tr>\n",
       "      <th>2</th>\n",
       "      <td>36350</td>\n",
       "      <td>10.500977</td>\n",
       "    </tr>\n",
       "    <tr>\n",
       "      <th>3</th>\n",
       "      <td>29450</td>\n",
       "      <td>10.290483</td>\n",
       "    </tr>\n",
       "    <tr>\n",
       "      <th>4</th>\n",
       "      <td>34500</td>\n",
       "      <td>10.448744</td>\n",
       "    </tr>\n",
       "    <tr>\n",
       "      <th>...</th>\n",
       "      <td>...</td>\n",
       "      <td>...</td>\n",
       "    </tr>\n",
       "    <tr>\n",
       "      <th>11909</th>\n",
       "      <td>46120</td>\n",
       "      <td>10.739024</td>\n",
       "    </tr>\n",
       "    <tr>\n",
       "      <th>11910</th>\n",
       "      <td>56670</td>\n",
       "      <td>10.945018</td>\n",
       "    </tr>\n",
       "    <tr>\n",
       "      <th>11911</th>\n",
       "      <td>50620</td>\n",
       "      <td>10.832122</td>\n",
       "    </tr>\n",
       "    <tr>\n",
       "      <th>11912</th>\n",
       "      <td>50920</td>\n",
       "      <td>10.838031</td>\n",
       "    </tr>\n",
       "    <tr>\n",
       "      <th>11913</th>\n",
       "      <td>28995</td>\n",
       "      <td>10.274913</td>\n",
       "    </tr>\n",
       "  </tbody>\n",
       "</table>\n",
       "<p>11914 rows × 2 columns</p>\n",
       "</div>"
      ],
      "text/plain": [
       "        msrp  msrp_normalized\n",
       "0      46135        10.739349\n",
       "1      40650        10.612779\n",
       "2      36350        10.500977\n",
       "3      29450        10.290483\n",
       "4      34500        10.448744\n",
       "...      ...              ...\n",
       "11909  46120        10.739024\n",
       "11910  56670        10.945018\n",
       "11911  50620        10.832122\n",
       "11912  50920        10.838031\n",
       "11913  28995        10.274913\n",
       "\n",
       "[11914 rows x 2 columns]"
      ]
     },
     "execution_count": 96,
     "metadata": {},
     "output_type": "execute_result"
    }
   ],
   "source": [
    "# Apply a simple log transformation to even out the distribution of the data\n",
    "# df_car[\"msrp_normalized\"] = df_car[\"msrp\"].apply(\n",
    "#     lambda x: math.log(x + 1)\n",
    "# )\n",
    "\n",
    "df_car[\"msrp_normalized\"] = np.log1p(df_car.msrp)\n",
    "\n",
    "df_car[[\"msrp\", \"msrp_normalized\"]]\n"
   ]
  },
  {
   "cell_type": "code",
   "execution_count": 97,
   "id": "634c53bb",
   "metadata": {},
   "outputs": [
    {
     "data": {
      "image/png": "[encoded data removed]",
      "text/plain": [
       "<Figure size 1200x600 with 1 Axes>"
      ]
     },
     "metadata": {},
     "output_type": "display_data"
    }
   ],
   "source": [
    "ax = sns.histplot(data=df_car, x=\"msrp_normalized\", bins=40)\n",
    "ax.xaxis.set_major_formatter(mticker.FuncFormatter(lambda x, _: f\"{int(x):,}\"))"
   ]
  },
  {
   "cell_type": "code",
   "execution_count": 98,
   "id": "6a61da34",
   "metadata": {},
   "outputs": [
    {
     "data": {
      "text/plain": [
       "make                    0\n",
       "model                   0\n",
       "year                    0\n",
       "engine_fuel_type        3\n",
       "engine_hp              69\n",
       "engine_cylinders       30\n",
       "transmission_type       0\n",
       "driven_wheels           0\n",
       "number_of_doors         6\n",
       "market_category      3742\n",
       "vehicle_size            0\n",
       "vehicle_style           0\n",
       "highway_mpg             0\n",
       "city_mpg                0\n",
       "popularity              0\n",
       "msrp                    0\n",
       "msrp_normalized         0\n",
       "dtype: int64"
      ]
     },
     "execution_count": 98,
     "metadata": {},
     "output_type": "execute_result"
    }
   ],
   "source": [
    "# Check missing values to improve our training data\n",
    "#  for our potential features\n",
    "df_car.isnull().sum()"
   ]
  },
  {
   "cell_type": "code",
   "execution_count": 99,
   "id": "a958c880",
   "metadata": {},
   "outputs": [
    {
     "data": {
      "text/html": [
       "<div>\n",
       "<style scoped>\n",
       "    .dataframe tbody tr th:only-of-type {\n",
       "        vertical-align: middle;\n",
       "    }\n",
       "\n",
       "    .dataframe tbody tr th {\n",
       "        vertical-align: top;\n",
       "    }\n",
       "\n",
       "    .dataframe thead th {\n",
       "        text-align: right;\n",
       "    }\n",
       "</style>\n",
       "<table border=\"1\" class=\"dataframe\">\n",
       "  <thead>\n",
       "    <tr style=\"text-align: right;\">\n",
       "      <th></th>\n",
       "      <th>make</th>\n",
       "      <th>model</th>\n",
       "      <th>year</th>\n",
       "      <th>engine_fuel_type</th>\n",
       "      <th>engine_hp</th>\n",
       "      <th>engine_cylinders</th>\n",
       "      <th>transmission_type</th>\n",
       "      <th>driven_wheels</th>\n",
       "      <th>number_of_doors</th>\n",
       "      <th>market_category</th>\n",
       "      <th>vehicle_size</th>\n",
       "      <th>vehicle_style</th>\n",
       "      <th>highway_mpg</th>\n",
       "      <th>city_mpg</th>\n",
       "      <th>popularity</th>\n",
       "      <th>msrp</th>\n",
       "      <th>msrp_normalized</th>\n",
       "    </tr>\n",
       "  </thead>\n",
       "  <tbody>\n",
       "    <tr>\n",
       "      <th>795</th>\n",
       "      <td>b'Volvo'</td>\n",
       "      <td>b'850'</td>\n",
       "      <td>1997</td>\n",
       "      <td>b'regular unleaded'</td>\n",
       "      <td>190.0</td>\n",
       "      <td>5.0</td>\n",
       "      <td>b'AUTOMATIC'</td>\n",
       "      <td>b'front wheel drive'</td>\n",
       "      <td>4.0</td>\n",
       "      <td>b'Luxury,Performance'</td>\n",
       "      <td>b'Midsize'</td>\n",
       "      <td>b'Wagon'</td>\n",
       "      <td>24</td>\n",
       "      <td>18</td>\n",
       "      <td>870</td>\n",
       "      <td>2000</td>\n",
       "      <td>7.601402</td>\n",
       "    </tr>\n",
       "    <tr>\n",
       "      <th>1588</th>\n",
       "      <td>b'Toyota'</td>\n",
       "      <td>b'Avalon Hybrid'</td>\n",
       "      <td>2015</td>\n",
       "      <td>b'regular unleaded'</td>\n",
       "      <td>200.0</td>\n",
       "      <td>4.0</td>\n",
       "      <td>b'AUTOMATIC'</td>\n",
       "      <td>b'front wheel drive'</td>\n",
       "      <td>4.0</td>\n",
       "      <td>b'Hybrid'</td>\n",
       "      <td>b'Midsize'</td>\n",
       "      <td>b'Sedan'</td>\n",
       "      <td>39</td>\n",
       "      <td>40</td>\n",
       "      <td>2031</td>\n",
       "      <td>36470</td>\n",
       "      <td>10.504273</td>\n",
       "    </tr>\n",
       "    <tr>\n",
       "      <th>2533</th>\n",
       "      <td>b'Honda'</td>\n",
       "      <td>b'Civic CRX'</td>\n",
       "      <td>1991</td>\n",
       "      <td>b'regular unleaded'</td>\n",
       "      <td>62.0</td>\n",
       "      <td>4.0</td>\n",
       "      <td>b'MANUAL'</td>\n",
       "      <td>b'front wheel drive'</td>\n",
       "      <td>2.0</td>\n",
       "      <td>b'Hatchback'</td>\n",
       "      <td>b'Compact'</td>\n",
       "      <td>b'2dr Hatchback'</td>\n",
       "      <td>44</td>\n",
       "      <td>36</td>\n",
       "      <td>2202</td>\n",
       "      <td>2000</td>\n",
       "      <td>7.601402</td>\n",
       "    </tr>\n",
       "    <tr>\n",
       "      <th>3468</th>\n",
       "      <td>b'Dodge'</td>\n",
       "      <td>b'Dakota'</td>\n",
       "      <td>2009</td>\n",
       "      <td>b'regular unleaded'</td>\n",
       "      <td>210.0</td>\n",
       "      <td>6.0</td>\n",
       "      <td>b'AUTOMATIC'</td>\n",
       "      <td>b'rear wheel drive'</td>\n",
       "      <td>4.0</td>\n",
       "      <td>b'Flex Fuel'</td>\n",
       "      <td>b'Compact'</td>\n",
       "      <td>b'Extended Cab Pickup'</td>\n",
       "      <td>20</td>\n",
       "      <td>15</td>\n",
       "      <td>1851</td>\n",
       "      <td>22560</td>\n",
       "      <td>10.023978</td>\n",
       "    </tr>\n",
       "    <tr>\n",
       "      <th>9958</th>\n",
       "      <td>b'Dodge'</td>\n",
       "      <td>b'SRT Viper'</td>\n",
       "      <td>2014</td>\n",
       "      <td>b'premium unleaded (required)'</td>\n",
       "      <td>640.0</td>\n",
       "      <td>10.0</td>\n",
       "      <td>b'MANUAL'</td>\n",
       "      <td>b'rear wheel drive'</td>\n",
       "      <td>2.0</td>\n",
       "      <td>b'Exotic,High-Performance'</td>\n",
       "      <td>b'Compact'</td>\n",
       "      <td>b'Coupe'</td>\n",
       "      <td>19</td>\n",
       "      <td>12</td>\n",
       "      <td>1851</td>\n",
       "      <td>107385</td>\n",
       "      <td>11.584185</td>\n",
       "    </tr>\n",
       "    <tr>\n",
       "      <th>...</th>\n",
       "      <td>...</td>\n",
       "      <td>...</td>\n",
       "      <td>...</td>\n",
       "      <td>...</td>\n",
       "      <td>...</td>\n",
       "      <td>...</td>\n",
       "      <td>...</td>\n",
       "      <td>...</td>\n",
       "      <td>...</td>\n",
       "      <td>...</td>\n",
       "      <td>...</td>\n",
       "      <td>...</td>\n",
       "      <td>...</td>\n",
       "      <td>...</td>\n",
       "      <td>...</td>\n",
       "      <td>...</td>\n",
       "      <td>...</td>\n",
       "    </tr>\n",
       "    <tr>\n",
       "      <th>8447</th>\n",
       "      <td>b'Buick'</td>\n",
       "      <td>b'Regal'</td>\n",
       "      <td>2016</td>\n",
       "      <td>b'premium unleaded (recommended)'</td>\n",
       "      <td>259.0</td>\n",
       "      <td>4.0</td>\n",
       "      <td>b'AUTOMATIC'</td>\n",
       "      <td>b'front wheel drive'</td>\n",
       "      <td>4.0</td>\n",
       "      <td>b'Performance'</td>\n",
       "      <td>b'Midsize'</td>\n",
       "      <td>b'Sedan'</td>\n",
       "      <td>30</td>\n",
       "      <td>21</td>\n",
       "      <td>155</td>\n",
       "      <td>34065</td>\n",
       "      <td>10.436055</td>\n",
       "    </tr>\n",
       "    <tr>\n",
       "      <th>2934</th>\n",
       "      <td>b'Toyota'</td>\n",
       "      <td>b'Corolla'</td>\n",
       "      <td>2015</td>\n",
       "      <td>b'regular unleaded'</td>\n",
       "      <td>140.0</td>\n",
       "      <td>4.0</td>\n",
       "      <td>b'AUTOMATIC'</td>\n",
       "      <td>b'front wheel drive'</td>\n",
       "      <td>4.0</td>\n",
       "      <td>None</td>\n",
       "      <td>b'Compact'</td>\n",
       "      <td>b'Sedan'</td>\n",
       "      <td>40</td>\n",
       "      <td>30</td>\n",
       "      <td>2031</td>\n",
       "      <td>22725</td>\n",
       "      <td>10.031265</td>\n",
       "    </tr>\n",
       "    <tr>\n",
       "      <th>10383</th>\n",
       "      <td>b'Ford'</td>\n",
       "      <td>b'Thunderbird'</td>\n",
       "      <td>2005</td>\n",
       "      <td>b'premium unleaded (required)'</td>\n",
       "      <td>280.0</td>\n",
       "      <td>8.0</td>\n",
       "      <td>b'AUTOMATIC'</td>\n",
       "      <td>b'rear wheel drive'</td>\n",
       "      <td>2.0</td>\n",
       "      <td>b'Performance'</td>\n",
       "      <td>b'Midsize'</td>\n",
       "      <td>b'Convertible'</td>\n",
       "      <td>22</td>\n",
       "      <td>16</td>\n",
       "      <td>5657</td>\n",
       "      <td>38355</td>\n",
       "      <td>10.554666</td>\n",
       "    </tr>\n",
       "    <tr>\n",
       "      <th>6618</th>\n",
       "      <td>b'BMW'</td>\n",
       "      <td>b'M6 Gran Coupe'</td>\n",
       "      <td>2016</td>\n",
       "      <td>b'premium unleaded (required)'</td>\n",
       "      <td>552.0</td>\n",
       "      <td>8.0</td>\n",
       "      <td>b'AUTOMATED_MANUAL'</td>\n",
       "      <td>b'rear wheel drive'</td>\n",
       "      <td>4.0</td>\n",
       "      <td>b'Factory Tuner,Luxury,High-Performance'</td>\n",
       "      <td>b'Large'</td>\n",
       "      <td>b'Sedan'</td>\n",
       "      <td>20</td>\n",
       "      <td>14</td>\n",
       "      <td>3916</td>\n",
       "      <td>117200</td>\n",
       "      <td>11.671646</td>\n",
       "    </tr>\n",
       "    <tr>\n",
       "      <th>8510</th>\n",
       "      <td>b'Kia'</td>\n",
       "      <td>b'Rio'</td>\n",
       "      <td>2015</td>\n",
       "      <td>b'regular unleaded'</td>\n",
       "      <td>138.0</td>\n",
       "      <td>4.0</td>\n",
       "      <td>b'AUTOMATIC'</td>\n",
       "      <td>b'front wheel drive'</td>\n",
       "      <td>4.0</td>\n",
       "      <td>None</td>\n",
       "      <td>b'Compact'</td>\n",
       "      <td>b'Sedan'</td>\n",
       "      <td>37</td>\n",
       "      <td>27</td>\n",
       "      <td>1720</td>\n",
       "      <td>15190</td>\n",
       "      <td>9.628458</td>\n",
       "    </tr>\n",
       "  </tbody>\n",
       "</table>\n",
       "<p>2382 rows × 17 columns</p>\n",
       "</div>"
      ],
      "text/plain": [
       "            make             model  year                   engine_fuel_type  \\\n",
       "795     b'Volvo'            b'850'  1997                b'regular unleaded'   \n",
       "1588   b'Toyota'  b'Avalon Hybrid'  2015                b'regular unleaded'   \n",
       "2533    b'Honda'      b'Civic CRX'  1991                b'regular unleaded'   \n",
       "3468    b'Dodge'         b'Dakota'  2009                b'regular unleaded'   \n",
       "9958    b'Dodge'      b'SRT Viper'  2014     b'premium unleaded (required)'   \n",
       "...          ...               ...   ...                                ...   \n",
       "8447    b'Buick'          b'Regal'  2016  b'premium unleaded (recommended)'   \n",
       "2934   b'Toyota'        b'Corolla'  2015                b'regular unleaded'   \n",
       "10383    b'Ford'    b'Thunderbird'  2005     b'premium unleaded (required)'   \n",
       "6618      b'BMW'  b'M6 Gran Coupe'  2016     b'premium unleaded (required)'   \n",
       "8510      b'Kia'            b'Rio'  2015                b'regular unleaded'   \n",
       "\n",
       "       engine_hp  engine_cylinders    transmission_type         driven_wheels  \\\n",
       "795        190.0               5.0         b'AUTOMATIC'  b'front wheel drive'   \n",
       "1588       200.0               4.0         b'AUTOMATIC'  b'front wheel drive'   \n",
       "2533        62.0               4.0            b'MANUAL'  b'front wheel drive'   \n",
       "3468       210.0               6.0         b'AUTOMATIC'   b'rear wheel drive'   \n",
       "9958       640.0              10.0            b'MANUAL'   b'rear wheel drive'   \n",
       "...          ...               ...                  ...                   ...   \n",
       "8447       259.0               4.0         b'AUTOMATIC'  b'front wheel drive'   \n",
       "2934       140.0               4.0         b'AUTOMATIC'  b'front wheel drive'   \n",
       "10383      280.0               8.0         b'AUTOMATIC'   b'rear wheel drive'   \n",
       "6618       552.0               8.0  b'AUTOMATED_MANUAL'   b'rear wheel drive'   \n",
       "8510       138.0               4.0         b'AUTOMATIC'  b'front wheel drive'   \n",
       "\n",
       "       number_of_doors                           market_category vehicle_size  \\\n",
       "795                4.0                     b'Luxury,Performance'   b'Midsize'   \n",
       "1588               4.0                                 b'Hybrid'   b'Midsize'   \n",
       "2533               2.0                              b'Hatchback'   b'Compact'   \n",
       "3468               4.0                              b'Flex Fuel'   b'Compact'   \n",
       "9958               2.0                b'Exotic,High-Performance'   b'Compact'   \n",
       "...                ...                                       ...          ...   \n",
       "8447               4.0                            b'Performance'   b'Midsize'   \n",
       "2934               4.0                                      None   b'Compact'   \n",
       "10383              2.0                            b'Performance'   b'Midsize'   \n",
       "6618               4.0  b'Factory Tuner,Luxury,High-Performance'     b'Large'   \n",
       "8510               4.0                                      None   b'Compact'   \n",
       "\n",
       "                vehicle_style  highway_mpg  city_mpg  popularity    msrp  \\\n",
       "795                  b'Wagon'           24        18         870    2000   \n",
       "1588                 b'Sedan'           39        40        2031   36470   \n",
       "2533         b'2dr Hatchback'           44        36        2202    2000   \n",
       "3468   b'Extended Cab Pickup'           20        15        1851   22560   \n",
       "9958                 b'Coupe'           19        12        1851  107385   \n",
       "...                       ...          ...       ...         ...     ...   \n",
       "8447                 b'Sedan'           30        21         155   34065   \n",
       "2934                 b'Sedan'           40        30        2031   22725   \n",
       "10383          b'Convertible'           22        16        5657   38355   \n",
       "6618                 b'Sedan'           20        14        3916  117200   \n",
       "8510                 b'Sedan'           37        27        1720   15190   \n",
       "\n",
       "       msrp_normalized  \n",
       "795           7.601402  \n",
       "1588         10.504273  \n",
       "2533          7.601402  \n",
       "3468         10.023978  \n",
       "9958         11.584185  \n",
       "...                ...  \n",
       "8447         10.436055  \n",
       "2934         10.031265  \n",
       "10383        10.554666  \n",
       "6618         11.671646  \n",
       "8510          9.628458  \n",
       "\n",
       "[2382 rows x 17 columns]"
      ]
     },
     "execution_count": 99,
     "metadata": {},
     "output_type": "execute_result"
    }
   ],
   "source": [
    "# Splitting data sets (validation, test, training)\n",
    "\n",
    "# calculate the indices\n",
    "n_total = len(df_car)\n",
    "n_validation = int(0.2 * n_total) # ~20% of the total data\n",
    "n_test = int(0.2 * n_total) # ~20% of the total data\n",
    "n_training = n_total - (n_validation + n_test) # remaining ~60%\n",
    "\n",
    "# get the random shuffling of data\n",
    "np.random.seed(25) # for reproducibility\n",
    "idx = np.arange(n_total)\n",
    "np.random.shuffle(idx)\n",
    "\n",
    "# create the shuffled datasets\n",
    "df_shuffled = df_car.iloc[idx]\n",
    "df_training = df_shuffled.iloc[:n_training].copy() # from 0-index but before n_training index\n",
    "df_validation = df_shuffled.iloc[n_training:(n_training + n_validation)].copy() # from n_training index up to (n_training + n_validation) rows\n",
    "df_test = df_shuffled.iloc[(n_training + n_validation):].copy() # start from the `to` index from above to the rest of the rows. This is the remaining data\n",
    "\n",
    "df_test"
   ]
  },
  {
   "cell_type": "code",
   "execution_count": 100,
   "id": "1b0b42a2",
   "metadata": {},
   "outputs": [],
   "source": [
    "# apply distribution normalization with log1p to remove long tail\n",
    "y_training = np.log1p(df_training[\"msrp\"])\n",
    "y_validation = np.log1p(df_validation[\"msrp\"])\n",
    "y_test = np.log1p(df_test[\"msrp\"])\n",
    "\n",
    "# remove the target variable to prevent us from accidentally using it\n",
    "df_training = df_training.drop(columns=[\"msrp\"])\n",
    "df_validation = df_validation.drop(columns=[\"msrp\"])\n",
    "df_test = df_test.drop(columns=[\"msrp\"])"
   ]
  },
  {
   "cell_type": "code",
   "execution_count": 101,
   "id": "8418db4e",
   "metadata": {},
   "outputs": [],
   "source": [
    "# define the linear regression function\n",
    "def train_linear_regression(X: np.ndarray, y: np.ndarray):\n",
    "    ones = np.ones(X.shape[0]) # create a 1's array based on the column size of X or X.shape[0]\n",
    "    X = np.column_stack([ones, X]) # stack the 1's array in front of each observation/row of X\n",
    "\n",
    "    # normal equation\n",
    "    XTX = X.T.dot(X)\n",
    "    XTX_inv = np.linalg.inv(XTX)\n",
    "    weights = XTX_inv.dot(X.T).dot(y)\n",
    "\n",
    "    return weights[0], weights[1:]"
   ]
  },
  {
   "cell_type": "code",
   "execution_count": 102,
   "id": "9ed3d22d",
   "metadata": {},
   "outputs": [
    {
     "data": {
      "text/plain": [
       "Index(['make', 'model', 'year', 'engine_fuel_type', 'engine_hp',\n",
       "       'engine_cylinders', 'transmission_type', 'driven_wheels',\n",
       "       'number_of_doors', 'market_category', 'vehicle_size', 'vehicle_style',\n",
       "       'highway_mpg', 'city_mpg', 'popularity', 'msrp_normalized'],\n",
       "      dtype='object')"
      ]
     },
     "execution_count": 102,
     "metadata": {},
     "output_type": "execute_result"
    }
   ],
   "source": [
    "df_training.columns"
   ]
  },
  {
   "cell_type": "code",
   "execution_count": 103,
   "id": "9920a062",
   "metadata": {},
   "outputs": [
    {
     "data": {
      "text/html": [
       "<div>\n",
       "<style scoped>\n",
       "    .dataframe tbody tr th:only-of-type {\n",
       "        vertical-align: middle;\n",
       "    }\n",
       "\n",
       "    .dataframe tbody tr th {\n",
       "        vertical-align: top;\n",
       "    }\n",
       "\n",
       "    .dataframe thead th {\n",
       "        text-align: right;\n",
       "    }\n",
       "</style>\n",
       "<table border=\"1\" class=\"dataframe\">\n",
       "  <thead>\n",
       "    <tr style=\"text-align: right;\">\n",
       "      <th></th>\n",
       "      <th>make</th>\n",
       "      <th>model</th>\n",
       "      <th>year</th>\n",
       "      <th>engine_fuel_type</th>\n",
       "      <th>engine_hp</th>\n",
       "      <th>engine_cylinders</th>\n",
       "      <th>transmission_type</th>\n",
       "      <th>driven_wheels</th>\n",
       "      <th>number_of_doors</th>\n",
       "      <th>market_category</th>\n",
       "      <th>vehicle_size</th>\n",
       "      <th>vehicle_style</th>\n",
       "      <th>highway_mpg</th>\n",
       "      <th>city_mpg</th>\n",
       "      <th>popularity</th>\n",
       "      <th>msrp_normalized</th>\n",
       "    </tr>\n",
       "  </thead>\n",
       "  <tbody>\n",
       "    <tr>\n",
       "      <th>3205</th>\n",
       "      <td>b'Cadillac'</td>\n",
       "      <td>b'CTS Coupe'</td>\n",
       "      <td>2013</td>\n",
       "      <td>b'regular unleaded'</td>\n",
       "      <td>318.0</td>\n",
       "      <td>6.0</td>\n",
       "      <td>b'AUTOMATIC'</td>\n",
       "      <td>b'rear wheel drive'</td>\n",
       "      <td>2.0</td>\n",
       "      <td>b'Luxury,Performance'</td>\n",
       "      <td>b'Midsize'</td>\n",
       "      <td>b'Coupe'</td>\n",
       "      <td>27</td>\n",
       "      <td>18</td>\n",
       "      <td>1624</td>\n",
       "      <td>10.782097</td>\n",
       "    </tr>\n",
       "    <tr>\n",
       "      <th>3617</th>\n",
       "      <td>b'Dodge'</td>\n",
       "      <td>b'Durango'</td>\n",
       "      <td>2015</td>\n",
       "      <td>b'regular unleaded'</td>\n",
       "      <td>290.0</td>\n",
       "      <td>6.0</td>\n",
       "      <td>b'AUTOMATIC'</td>\n",
       "      <td>b'rear wheel drive'</td>\n",
       "      <td>4.0</td>\n",
       "      <td>b'Crossover,Performance'</td>\n",
       "      <td>b'Large'</td>\n",
       "      <td>b'4dr SUV'</td>\n",
       "      <td>25</td>\n",
       "      <td>18</td>\n",
       "      <td>1851</td>\n",
       "      <td>10.325351</td>\n",
       "    </tr>\n",
       "    <tr>\n",
       "      <th>8608</th>\n",
       "      <td>b'Volkswagen'</td>\n",
       "      <td>b'Routan'</td>\n",
       "      <td>2010</td>\n",
       "      <td>b'regular unleaded'</td>\n",
       "      <td>251.0</td>\n",
       "      <td>6.0</td>\n",
       "      <td>b'AUTOMATIC'</td>\n",
       "      <td>b'front wheel drive'</td>\n",
       "      <td>4.0</td>\n",
       "      <td>None</td>\n",
       "      <td>b'Midsize'</td>\n",
       "      <td>b'Passenger Minivan'</td>\n",
       "      <td>25</td>\n",
       "      <td>17</td>\n",
       "      <td>873</td>\n",
       "      <td>10.657283</td>\n",
       "    </tr>\n",
       "    <tr>\n",
       "      <th>8765</th>\n",
       "      <td>b'Chevrolet'</td>\n",
       "      <td>b'S-10'</td>\n",
       "      <td>2002</td>\n",
       "      <td>b'regular unleaded'</td>\n",
       "      <td>190.0</td>\n",
       "      <td>6.0</td>\n",
       "      <td>b'AUTOMATIC'</td>\n",
       "      <td>b'rear wheel drive'</td>\n",
       "      <td>2.0</td>\n",
       "      <td>b'Performance'</td>\n",
       "      <td>b'Compact'</td>\n",
       "      <td>b'Regular Cab Pickup'</td>\n",
       "      <td>20</td>\n",
       "      <td>15</td>\n",
       "      <td>1385</td>\n",
       "      <td>9.849295</td>\n",
       "    </tr>\n",
       "    <tr>\n",
       "      <th>3235</th>\n",
       "      <td>b'Cadillac'</td>\n",
       "      <td>b'CTS Wagon'</td>\n",
       "      <td>2013</td>\n",
       "      <td>b'regular unleaded'</td>\n",
       "      <td>318.0</td>\n",
       "      <td>6.0</td>\n",
       "      <td>b'AUTOMATIC'</td>\n",
       "      <td>b'all wheel drive'</td>\n",
       "      <td>4.0</td>\n",
       "      <td>b'Luxury,Performance'</td>\n",
       "      <td>b'Midsize'</td>\n",
       "      <td>b'Wagon'</td>\n",
       "      <td>26</td>\n",
       "      <td>18</td>\n",
       "      <td>1624</td>\n",
       "      <td>10.852265</td>\n",
       "    </tr>\n",
       "  </tbody>\n",
       "</table>\n",
       "</div>"
      ],
      "text/plain": [
       "               make         model  year     engine_fuel_type  engine_hp  \\\n",
       "3205    b'Cadillac'  b'CTS Coupe'  2013  b'regular unleaded'      318.0   \n",
       "3617       b'Dodge'    b'Durango'  2015  b'regular unleaded'      290.0   \n",
       "8608  b'Volkswagen'     b'Routan'  2010  b'regular unleaded'      251.0   \n",
       "8765   b'Chevrolet'       b'S-10'  2002  b'regular unleaded'      190.0   \n",
       "3235    b'Cadillac'  b'CTS Wagon'  2013  b'regular unleaded'      318.0   \n",
       "\n",
       "      engine_cylinders transmission_type         driven_wheels  \\\n",
       "3205               6.0      b'AUTOMATIC'   b'rear wheel drive'   \n",
       "3617               6.0      b'AUTOMATIC'   b'rear wheel drive'   \n",
       "8608               6.0      b'AUTOMATIC'  b'front wheel drive'   \n",
       "8765               6.0      b'AUTOMATIC'   b'rear wheel drive'   \n",
       "3235               6.0      b'AUTOMATIC'    b'all wheel drive'   \n",
       "\n",
       "      number_of_doors           market_category vehicle_size  \\\n",
       "3205              2.0     b'Luxury,Performance'   b'Midsize'   \n",
       "3617              4.0  b'Crossover,Performance'     b'Large'   \n",
       "8608              4.0                      None   b'Midsize'   \n",
       "8765              2.0            b'Performance'   b'Compact'   \n",
       "3235              4.0     b'Luxury,Performance'   b'Midsize'   \n",
       "\n",
       "              vehicle_style  highway_mpg  city_mpg  popularity  \\\n",
       "3205               b'Coupe'           27        18        1624   \n",
       "3617             b'4dr SUV'           25        18        1851   \n",
       "8608   b'Passenger Minivan'           25        17         873   \n",
       "8765  b'Regular Cab Pickup'           20        15        1385   \n",
       "3235               b'Wagon'           26        18        1624   \n",
       "\n",
       "      msrp_normalized  \n",
       "3205        10.782097  \n",
       "3617        10.325351  \n",
       "8608        10.657283  \n",
       "8765         9.849295  \n",
       "3235        10.852265  "
      ]
     },
     "execution_count": 103,
     "metadata": {},
     "output_type": "execute_result"
    }
   ],
   "source": [
    "df_training.head()"
   ]
  },
  {
   "cell_type": "code",
   "execution_count": 104,
   "id": "95bda11c",
   "metadata": {},
   "outputs": [],
   "source": [
    "# selecte the features for the training\n",
    "features_baseline = [\n",
    "    \"engine_hp\",\n",
    "    \"engine_cylinders\",\n",
    "    \"highway_mpg\",\n",
    "    \"city_mpg\",\n",
    "    \"popularity\"\n",
    "]\n",
    "\n",
    "df_num = df_training[features_baseline]\n",
    "\n",
    "# fill the missing values with a temp solution\n",
    "df_num = df_num.fillna(0)"
   ]
  },
  {
   "cell_type": "code",
   "execution_count": 105,
   "id": "33b8dd47",
   "metadata": {},
   "outputs": [
    {
     "name": "stdout",
     "output_type": "stream",
     "text": [
      "[ 9.14317369e-03 -1.16418120e-01  4.17248269e-02 -6.48480210e-03\n",
      " -3.51897065e-06]\n"
     ]
    }
   ],
   "source": [
    "# Start training\n",
    "X_training = df_num.values\n",
    "\n",
    "w_0, w = train_linear_regression(X_training, y_training)\n",
    "\n",
    "print(w)"
   ]
  },
  {
   "cell_type": "code",
   "execution_count": null,
   "id": "69a505ff",
   "metadata": {},
   "outputs": [],
   "source": []
  },
  {
   "cell_type": "code",
   "execution_count": 106,
   "id": "f701dc9e",
   "metadata": {},
   "outputs": [
    {
     "data": {
      "text/plain": [
       "array([10.74614053, 10.40588321, 10.05922579, ..., 10.44056723,\n",
       "        8.86428601, 10.8163656 ], shape=(7150,))"
      ]
     },
     "execution_count": 106,
     "metadata": {},
     "output_type": "execute_result"
    }
   ],
   "source": [
    "y_pred = w_0 + X_training.dot(w)\n",
    "y_pred"
   ]
  },
  {
   "cell_type": "code",
   "execution_count": 107,
   "id": "37ddaf54",
   "metadata": {},
   "outputs": [
    {
     "data": {
      "text/plain": [
       "<matplotlib.legend.Legend at 0x11d77d310>"
      ]
     },
     "execution_count": 107,
     "metadata": {},
     "output_type": "execute_result"
    },
    {
     "data": {
      "image/png": "[encoded data removed]",
      "text/plain": [
       "<Figure size 1200x600 with 1 Axes>"
      ]
     },
     "metadata": {},
     "output_type": "display_data"
    }
   ],
   "source": [
    "sns.histplot(data=y_pred, label=\"prediction\")\n",
    "sns.histplot(data=y_training, label=\"target\")\n",
    "plt.legend()"
   ]
  },
  {
   "cell_type": "code",
   "execution_count": 108,
   "id": "fe3cbb2a",
   "metadata": {},
   "outputs": [
    {
     "data": {
      "text/plain": [
       "np.int64(81)"
      ]
     },
     "execution_count": 108,
     "metadata": {},
     "output_type": "execute_result"
    }
   ],
   "source": [
    "np.pow(3, 4)"
   ]
  },
  {
   "cell_type": "code",
   "execution_count": 109,
   "id": "91790ea8",
   "metadata": {},
   "outputs": [
    {
     "name": "stdout",
     "output_type": "stream",
     "text": [
      "0.7489004675765608\n"
     ]
    }
   ],
   "source": [
    "# Evaluate model quality with Root Mean Squared Error (RMSE)\n",
    "def rmse(y_target: np.ndarray, y_prediction: np.ndarray):\n",
    "    # calculate the diff between the prediction and target\n",
    "    error = (\n",
    "        y_prediction - y_target\n",
    "    )\n",
    "    # square the prediction to make obtain non-negative values, then get the mean\n",
    "    mse = np.power(error, 2).mean()\n",
    "    # obtain the square root (since we squared it)\n",
    "    return np.sqrt(mse)\n",
    "\n",
    "# calculate the error\n",
    "error = rmse(y_target=y_training, y_prediction=y_pred)\n",
    "print(error)"
   ]
  },
  {
   "cell_type": "code",
   "execution_count": 110,
   "id": "8e96d630",
   "metadata": {},
   "outputs": [
    {
     "name": "stdout",
     "output_type": "stream",
     "text": [
      "0.7824345416611057\n"
     ]
    }
   ],
   "source": [
    "# Test model against the validation dataset\n",
    "def prep_data_for_model_testing(df: pd.DataFrame, features: list[str], missing_val: int | float):\n",
    "    return df[features].fillna(missing_val).values\n",
    "\n",
    "X_validation = prep_data_for_model_testing(\n",
    "    df=df_validation,\n",
    "    features=features_baseline,\n",
    "    missing_val=0\n",
    ")\n",
    "\n",
    "y_pred_validation = w_0 + X_validation.dot(w)\n",
    "\n",
    "rmse_validation = rmse(y_target=y_validation, y_prediction=y_pred_validation)\n",
    "print(rmse_validation)"
   ]
  },
  {
   "cell_type": "code",
   "execution_count": 111,
   "id": "bd8a2135",
   "metadata": {},
   "outputs": [
    {
     "name": "stdout",
     "output_type": "stream",
     "text": [
      "0.7552183711414266\n"
     ]
    }
   ],
   "source": [
    "# Test against test dataset\n",
    "X_test = prep_data_for_model_testing(\n",
    "    df=df_test, features=features_baseline, missing_val=0\n",
    ")\n",
    "\n",
    "y_pred_test = w_0 + X_test.dot(w)\n",
    "rmse_test = rmse(y_target=y_test, y_prediction=y_pred_test)\n",
    "print(rmse_test)"
   ]
  },
  {
   "cell_type": "code",
   "execution_count": 117,
   "id": "1e3494b3",
   "metadata": {},
   "outputs": [
    {
     "data": {
      "text/plain": [
       "array([ 3.73833826e-03,  7.16647611e-02, -1.23043912e-02,  1.90852839e-02,\n",
       "       -4.50321473e-05, -9.35951985e-02])"
      ]
     },
     "execution_count": 117,
     "metadata": {},
     "output_type": "execute_result"
    }
   ],
   "source": [
    "# Improve the model\n",
    "\n",
    "# Add the car age as a feature\n",
    "def calculate_car_age(year: int):\n",
    "    return 2025 - year\n",
    "\n",
    "df_training[\"age\"] = df_training[\"year\"].apply(lambda y: calculate_car_age(y))\n",
    "\n",
    "features = features_baseline + [\"age\"]\n",
    "df_num = df_training[features]\n",
    "\n",
    "X_training = prep_data_for_model_testing(\n",
    "    df=df_num,\n",
    "    features=features,\n",
    "    missing_val=0\n",
    ")\n",
    "\n",
    "w_0, w = train_linear_regression(X_training, y_training)\n",
    "w"
   ]
  },
  {
   "cell_type": "code",
   "execution_count": 119,
   "id": "fc2b1a09",
   "metadata": {},
   "outputs": [
    {
     "name": "stdout",
     "output_type": "stream",
     "text": [
      "0.5078721486734096\n"
     ]
    }
   ],
   "source": [
    "# Evaluate the updated model\n",
    "df_validation[\"age\"] = df_validation[\"year\"].apply(lambda y: calculate_car_age(y))\n",
    "\n",
    "df_validation = df_validation[features]\n",
    "\n",
    "X_validation = prep_data_for_model_testing(\n",
    "    df=df_validation,\n",
    "    features=features,\n",
    "    missing_val=0\n",
    ")\n",
    "\n",
    "y_pred_validation = w_0 + X_validation.dot(w)\n",
    "rmse_validation = rmse(y_target=y_validation, y_prediction=y_pred_validation)\n",
    "print(rmse_validation)"
   ]
  },
  {
   "cell_type": "code",
   "execution_count": 120,
   "id": "c8d89cc6",
   "metadata": {},
   "outputs": [
    {
     "data": {
      "text/plain": [
       "<matplotlib.legend.Legend at 0x11d606990>"
      ]
     },
     "execution_count": 120,
     "metadata": {},
     "output_type": "execute_result"
    },
    {
     "data": {
      "image/png": "[encoded data removed]",
      "text/plain": [
       "<Figure size 1200x600 with 1 Axes>"
      ]
     },
     "metadata": {},
     "output_type": "display_data"
    }
   ],
   "source": [
    "sns.histplot(data=y_pred_validation, label=\"prediction\")\n",
    "sns.histplot(data=y_validation, label=\"target\")\n",
    "plt.legend()"
   ]
  },
  {
   "cell_type": "code",
   "execution_count": null,
   "id": "37c77348",
   "metadata": {},
   "outputs": [],
   "source": []
  }
 ],
 "metadata": {
  "kernelspec": {
   "display_name": ".venv",
   "language": "python",
   "name": "python3"
  },
  "language_info": {
   "codemirror_mode": {
    "name": "ipython",
    "version": 3
   },
   "file_extension": ".py",
   "mimetype": "text/x-python",
   "name": "python",
   "nbconvert_exporter": "python",
   "pygments_lexer": "ipython3",
   "version": "3.13.2"
  }
 },
 "nbformat": 4,
 "nbformat_minor": 5
}
