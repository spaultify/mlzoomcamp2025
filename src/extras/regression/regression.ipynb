{
 "cells": [
  {
   "cell_type": "code",
   "execution_count": 88,
   "id": "60a0b0b1",
   "metadata": {},
   "outputs": [],
   "source": [
    "import httpx\n",
    "import mlcroissant as mlc\n",
    "import pandas as pd\n",
    "import numpy as np\n",
    "from matplotlib import pyplot as pyplot\n",
    "import matplotlib.ticker as mticker\n",
    "import seaborn as sns\n",
    "import math\n",
    "\n",
    "from pathlib import Path"
   ]
  },
  {
   "cell_type": "code",
   "execution_count": 13,
   "id": "be24b931",
   "metadata": {},
   "outputs": [],
   "source": [
    "# CONSTANTS\n",
    "PARENT_FOLDER = Path.cwd()\n",
    "DATA_FOLDER = PARENT_FOLDER / \"data\"\n",
    "DATASET_URL = (\n",
    "    \"https://www.kaggle.com/datasets/CooperUnion/cardataset/croissant/download\"\n",
    ")"
   ]
  },
  {
   "cell_type": "code",
   "execution_count": null,
   "id": "8f343fa1",
   "metadata": {},
   "outputs": [
    {
     "name": "stderr",
     "output_type": "stream",
     "text": [
      "WARNING:absl:WARNING: The JSON-LD `@context` is not standard. Refer to the official @context (e.g., from the example datasets in https://github.com/mlcommons/croissant/tree/main/datasets/1.0). The different keys are: {'rai', 'samplingRate', 'isLiveDataset', 'examples'}\n",
      "WARNING:absl:Found the following 1 warning(s) during the validation:\n",
      "  -  [Metadata(Car Features and MSRP)] Property \"http://mlcommons.org/croissant/citeAs\" is recommended, but does not exist.\n"
     ]
    },
    {
     "data": {
      "text/html": [
       "<div>\n",
       "<style scoped>\n",
       "    .dataframe tbody tr th:only-of-type {\n",
       "        vertical-align: middle;\n",
       "    }\n",
       "\n",
       "    .dataframe tbody tr th {\n",
       "        vertical-align: top;\n",
       "    }\n",
       "\n",
       "    .dataframe thead th {\n",
       "        text-align: right;\n",
       "    }\n",
       "</style>\n",
       "<table border=\"1\" class=\"dataframe\">\n",
       "  <thead>\n",
       "    <tr style=\"text-align: right;\">\n",
       "      <th></th>\n",
       "      <th>data.csv/Year</th>\n",
       "      <th>data.csv/Engine+HP</th>\n",
       "      <th>data.csv/Engine+Cylinders</th>\n",
       "      <th>data.csv/Number+of+Doors</th>\n",
       "      <th>data.csv/highway+MPG</th>\n",
       "      <th>data.csv/city+mpg</th>\n",
       "      <th>data.csv/Popularity</th>\n",
       "      <th>data.csv/MSRP</th>\n",
       "    </tr>\n",
       "  </thead>\n",
       "  <tbody>\n",
       "    <tr>\n",
       "      <th>count</th>\n",
       "      <td>11914.000000</td>\n",
       "      <td>11845.00000</td>\n",
       "      <td>11884.000000</td>\n",
       "      <td>11908.000000</td>\n",
       "      <td>11914.000000</td>\n",
       "      <td>11914.000000</td>\n",
       "      <td>11914.000000</td>\n",
       "      <td>1.191400e+04</td>\n",
       "    </tr>\n",
       "    <tr>\n",
       "      <th>mean</th>\n",
       "      <td>2010.384338</td>\n",
       "      <td>249.38607</td>\n",
       "      <td>5.628829</td>\n",
       "      <td>3.436093</td>\n",
       "      <td>26.637485</td>\n",
       "      <td>19.733255</td>\n",
       "      <td>1554.911197</td>\n",
       "      <td>4.059474e+04</td>\n",
       "    </tr>\n",
       "    <tr>\n",
       "      <th>std</th>\n",
       "      <td>7.579740</td>\n",
       "      <td>109.19187</td>\n",
       "      <td>1.780559</td>\n",
       "      <td>0.881315</td>\n",
       "      <td>8.863001</td>\n",
       "      <td>8.987798</td>\n",
       "      <td>1441.855347</td>\n",
       "      <td>6.010910e+04</td>\n",
       "    </tr>\n",
       "    <tr>\n",
       "      <th>min</th>\n",
       "      <td>1990.000000</td>\n",
       "      <td>55.00000</td>\n",
       "      <td>0.000000</td>\n",
       "      <td>2.000000</td>\n",
       "      <td>12.000000</td>\n",
       "      <td>7.000000</td>\n",
       "      <td>2.000000</td>\n",
       "      <td>2.000000e+03</td>\n",
       "    </tr>\n",
       "    <tr>\n",
       "      <th>25%</th>\n",
       "      <td>2007.000000</td>\n",
       "      <td>170.00000</td>\n",
       "      <td>4.000000</td>\n",
       "      <td>2.000000</td>\n",
       "      <td>22.000000</td>\n",
       "      <td>16.000000</td>\n",
       "      <td>549.000000</td>\n",
       "      <td>2.100000e+04</td>\n",
       "    </tr>\n",
       "    <tr>\n",
       "      <th>50%</th>\n",
       "      <td>2015.000000</td>\n",
       "      <td>227.00000</td>\n",
       "      <td>6.000000</td>\n",
       "      <td>4.000000</td>\n",
       "      <td>26.000000</td>\n",
       "      <td>18.000000</td>\n",
       "      <td>1385.000000</td>\n",
       "      <td>2.999500e+04</td>\n",
       "    </tr>\n",
       "    <tr>\n",
       "      <th>75%</th>\n",
       "      <td>2016.000000</td>\n",
       "      <td>300.00000</td>\n",
       "      <td>6.000000</td>\n",
       "      <td>4.000000</td>\n",
       "      <td>30.000000</td>\n",
       "      <td>22.000000</td>\n",
       "      <td>2009.000000</td>\n",
       "      <td>4.223125e+04</td>\n",
       "    </tr>\n",
       "    <tr>\n",
       "      <th>max</th>\n",
       "      <td>2017.000000</td>\n",
       "      <td>1001.00000</td>\n",
       "      <td>16.000000</td>\n",
       "      <td>4.000000</td>\n",
       "      <td>354.000000</td>\n",
       "      <td>137.000000</td>\n",
       "      <td>5657.000000</td>\n",
       "      <td>2.065902e+06</td>\n",
       "    </tr>\n",
       "  </tbody>\n",
       "</table>\n",
       "</div>"
      ],
      "text/plain": [
       "       data.csv/Year  data.csv/Engine+HP  data.csv/Engine+Cylinders  \\\n",
       "count   11914.000000         11845.00000               11884.000000   \n",
       "mean     2010.384338           249.38607                   5.628829   \n",
       "std         7.579740           109.19187                   1.780559   \n",
       "min      1990.000000            55.00000                   0.000000   \n",
       "25%      2007.000000           170.00000                   4.000000   \n",
       "50%      2015.000000           227.00000                   6.000000   \n",
       "75%      2016.000000           300.00000                   6.000000   \n",
       "max      2017.000000          1001.00000                  16.000000   \n",
       "\n",
       "       data.csv/Number+of+Doors  data.csv/highway+MPG  data.csv/city+mpg  \\\n",
       "count              11908.000000          11914.000000       11914.000000   \n",
       "mean                   3.436093             26.637485          19.733255   \n",
       "std                    0.881315              8.863001           8.987798   \n",
       "min                    2.000000             12.000000           7.000000   \n",
       "25%                    2.000000             22.000000          16.000000   \n",
       "50%                    4.000000             26.000000          18.000000   \n",
       "75%                    4.000000             30.000000          22.000000   \n",
       "max                    4.000000            354.000000         137.000000   \n",
       "\n",
       "       data.csv/Popularity  data.csv/MSRP  \n",
       "count         11914.000000   1.191400e+04  \n",
       "mean           1554.911197   4.059474e+04  \n",
       "std            1441.855347   6.010910e+04  \n",
       "min               2.000000   2.000000e+03  \n",
       "25%             549.000000   2.100000e+04  \n",
       "50%            1385.000000   2.999500e+04  \n",
       "75%            2009.000000   4.223125e+04  \n",
       "max            5657.000000   2.065902e+06  "
      ]
     },
     "execution_count": 22,
     "metadata": {},
     "output_type": "execute_result"
    }
   ],
   "source": [
    "def download_data(url: str):\n",
    "    dataset = mlc.Dataset(url)\n",
    "\n",
    "    return dataset\n",
    "\n",
    "car_dataset = download_data(DATASET_URL)\n",
    "car_record_sets = car_dataset.metadata.record_sets\n",
    "dataset_uuid = car_record_sets[0].uuid\n",
    "car_records = car_dataset.records(dataset_uuid)\n",
    "\n"
   ]
  },
  {
   "cell_type": "code",
   "execution_count": 35,
   "id": "5cbda8d3",
   "metadata": {},
   "outputs": [],
   "source": [
    "df_car_raw = pd.DataFrame(car_records)\n",
    "len(df_car_raw)\n",
    "\n",
    "df_car = df_car_raw.copy(deep=True)"
   ]
  },
  {
   "cell_type": "code",
   "execution_count": 37,
   "id": "76443dc1",
   "metadata": {},
   "outputs": [
    {
     "data": {
      "text/plain": [
       "Index(['make', 'model', 'year', 'engine_fuel_type', 'engine_hp',\n",
       "       'engine_cylinders', 'transmission_type', 'driven_wheels',\n",
       "       'number_of_doors', 'market_category', 'vehicle_size', 'vehicle_style',\n",
       "       'highway_mpg', 'city_mpg', 'popularity', 'msrp'],\n",
       "      dtype='object')"
      ]
     },
     "execution_count": 37,
     "metadata": {},
     "output_type": "execute_result"
    }
   ],
   "source": [
    "# Clean column names\n",
    "df_car.columns = df_car.columns.str.lower().str.replace(\"+\", \"_\").str.replace(\"data.csv/\", \"\")\n",
    "df_car.columns\n"
   ]
  },
  {
   "cell_type": "code",
   "execution_count": 70,
   "id": "6b164f62",
   "metadata": {},
   "outputs": [
    {
     "data": {
      "image/png": "[encoded data removed]",
      "text/plain": [
       "<Figure size 1200x600 with 1 Axes>"
      ]
     },
     "metadata": {},
     "output_type": "display_data"
    }
   ],
   "source": [
    "# plot the distribution of our target variable, the msrp\n",
    "\n",
    "pyplot.rcParams[\"figure.figsize\"] = (12, 6)\n",
    "\n",
    "ax = sns.histplot(data=df_car, x=\"msrp\", bins=40)\n",
    "ax.xaxis.set_major_formatter(mticker.FuncFormatter(lambda x, _: f'${int(x):,}'))"
   ]
  },
  {
   "cell_type": "code",
   "execution_count": 72,
   "id": "016eca67",
   "metadata": {},
   "outputs": [
    {
     "data": {
      "image/png": "[encoded data removed]",
      "text/plain": [
       "<Figure size 1200x600 with 1 Axes>"
      ]
     },
     "metadata": {},
     "output_type": "display_data"
    }
   ],
   "source": [
    "ax = sns.histplot(data=df_car[df_car[\"msrp\"] < 100000], x=\"msrp\", bins=40)\n",
    "ax.xaxis.set_major_locator(mticker.MultipleLocator(10000))\n",
    "ax.xaxis.set_major_formatter(mticker.FuncFormatter(lambda x, _: f\"${int(x):,}\"))"
   ]
  },
  {
   "cell_type": "code",
   "execution_count": 89,
   "id": "9b050712",
   "metadata": {},
   "outputs": [
    {
     "data": {
      "text/html": [
       "<div>\n",
       "<style scoped>\n",
       "    .dataframe tbody tr th:only-of-type {\n",
       "        vertical-align: middle;\n",
       "    }\n",
       "\n",
       "    .dataframe tbody tr th {\n",
       "        vertical-align: top;\n",
       "    }\n",
       "\n",
       "    .dataframe thead th {\n",
       "        text-align: right;\n",
       "    }\n",
       "</style>\n",
       "<table border=\"1\" class=\"dataframe\">\n",
       "  <thead>\n",
       "    <tr style=\"text-align: right;\">\n",
       "      <th></th>\n",
       "      <th>msrp</th>\n",
       "      <th>msrp_normalized</th>\n",
       "      <th>msrp_normalized_2</th>\n",
       "    </tr>\n",
       "  </thead>\n",
       "  <tbody>\n",
       "    <tr>\n",
       "      <th>0</th>\n",
       "      <td>46135</td>\n",
       "      <td>10.739349</td>\n",
       "      <td>10.739349</td>\n",
       "    </tr>\n",
       "    <tr>\n",
       "      <th>1</th>\n",
       "      <td>40650</td>\n",
       "      <td>10.612779</td>\n",
       "      <td>10.612779</td>\n",
       "    </tr>\n",
       "    <tr>\n",
       "      <th>2</th>\n",
       "      <td>36350</td>\n",
       "      <td>10.500977</td>\n",
       "      <td>10.500977</td>\n",
       "    </tr>\n",
       "    <tr>\n",
       "      <th>3</th>\n",
       "      <td>29450</td>\n",
       "      <td>10.290483</td>\n",
       "      <td>10.290483</td>\n",
       "    </tr>\n",
       "    <tr>\n",
       "      <th>4</th>\n",
       "      <td>34500</td>\n",
       "      <td>10.448744</td>\n",
       "      <td>10.448744</td>\n",
       "    </tr>\n",
       "    <tr>\n",
       "      <th>...</th>\n",
       "      <td>...</td>\n",
       "      <td>...</td>\n",
       "      <td>...</td>\n",
       "    </tr>\n",
       "    <tr>\n",
       "      <th>11909</th>\n",
       "      <td>46120</td>\n",
       "      <td>10.739024</td>\n",
       "      <td>10.739024</td>\n",
       "    </tr>\n",
       "    <tr>\n",
       "      <th>11910</th>\n",
       "      <td>56670</td>\n",
       "      <td>10.945018</td>\n",
       "      <td>10.945018</td>\n",
       "    </tr>\n",
       "    <tr>\n",
       "      <th>11911</th>\n",
       "      <td>50620</td>\n",
       "      <td>10.832122</td>\n",
       "      <td>10.832122</td>\n",
       "    </tr>\n",
       "    <tr>\n",
       "      <th>11912</th>\n",
       "      <td>50920</td>\n",
       "      <td>10.838031</td>\n",
       "      <td>10.838031</td>\n",
       "    </tr>\n",
       "    <tr>\n",
       "      <th>11913</th>\n",
       "      <td>28995</td>\n",
       "      <td>10.274913</td>\n",
       "      <td>10.274913</td>\n",
       "    </tr>\n",
       "  </tbody>\n",
       "</table>\n",
       "<p>11914 rows × 3 columns</p>\n",
       "</div>"
      ],
      "text/plain": [
       "        msrp  msrp_normalized  msrp_normalized_2\n",
       "0      46135        10.739349          10.739349\n",
       "1      40650        10.612779          10.612779\n",
       "2      36350        10.500977          10.500977\n",
       "3      29450        10.290483          10.290483\n",
       "4      34500        10.448744          10.448744\n",
       "...      ...              ...                ...\n",
       "11909  46120        10.739024          10.739024\n",
       "11910  56670        10.945018          10.945018\n",
       "11911  50620        10.832122          10.832122\n",
       "11912  50920        10.838031          10.838031\n",
       "11913  28995        10.274913          10.274913\n",
       "\n",
       "[11914 rows x 3 columns]"
      ]
     },
     "execution_count": 89,
     "metadata": {},
     "output_type": "execute_result"
    }
   ],
   "source": [
    "df_car[\"msrp_normalized\"] = df_car[\"msrp\"].apply(\n",
    "    lambda x: math.log(x + 1)\n",
    ")\n",
    "\n",
    "df_car[\"msrp_normalized_2\"] = np.log1p(df_car.msrp)\n",
    "\n",
    "df_car[[\"msrp\", \"msrp_normalized\", \"msrp_normalized_2\"]]\n"
   ]
  },
  {
   "cell_type": "code",
   "execution_count": 98,
   "id": "634c53bb",
   "metadata": {},
   "outputs": [
    {
     "data": {
      "image/png": "[encoded data removed]",
      "text/plain": [
       "<Figure size 1200x600 with 1 Axes>"
      ]
     },
     "metadata": {},
     "output_type": "display_data"
    }
   ],
   "source": [
    "ax = sns.histplot(data=df_car, x=\"msrp_normalized_2\", bins=40)\n",
    "ax.xaxis.set_major_formatter(mticker.FuncFormatter(lambda x, _: f\"{int(x):,}\"))"
   ]
  },
  {
   "cell_type": "code",
   "execution_count": null,
   "id": "a958c880",
   "metadata": {},
   "outputs": [],
   "source": []
  }
 ],
 "metadata": {
  "kernelspec": {
   "display_name": ".venv",
   "language": "python",
   "name": "python3"
  },
  "language_info": {
   "codemirror_mode": {
    "name": "ipython",
    "version": 3
   },
   "file_extension": ".py",
   "mimetype": "text/x-python",
   "name": "python",
   "nbconvert_exporter": "python",
   "pygments_lexer": "ipython3",
   "version": "3.13.2"
  }
 },
 "nbformat": 4,
 "nbformat_minor": 5
}
